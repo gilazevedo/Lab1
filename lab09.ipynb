{
 "cells": [
  {
   "cell_type": "markdown",
   "metadata": {},
   "source": [
    "# lab 9\n",
    "\n",
    "Suppose you have the follwoing payoff matriz of a prisoner's dilemna\n",
    "$$\\begin{bmatrix} (2,2) & (0,3) \\\\ (3,0) & (1,1)  \\end{bmatrix}$$\n",
    "\n",
    "Player 0 may play 0 or 1 and player 1 may play 0 or 1. 0 is cooperate (our peace), 1 is not cooperate (war).\n"
   ]
  },
  {
   "cell_type": "markdown",
   "metadata": {},
   "source": [
    "**1.** Create a function that receives results from each one of the player and gives as results a tuple with the results."
   ]
  },
  {
   "cell_type": "code",
   "execution_count": 3,
   "metadata": {},
   "outputs": [
    {
     "data": {
      "text/plain": [
       "(2, 2)"
      ]
     },
     "execution_count": 3,
     "metadata": {},
     "output_type": "execute_result"
    }
   ],
   "source": [
    "payoffList = [[(2,2),(0,3)],[(3,0),(1,1)]]\n",
    "\n",
    "def payoff(player1, player2):\n",
    "    a = payoffList[player1][player2]\n",
    "    return a \n",
    "\n",
    "payoff(0,0)\n"
   ]
  },
  {
   "cell_type": "markdown",
   "metadata": {},
   "source": [
    "**2.** Player 0 is the user that chooses between 0 a 1. Player 1 is a computer. Result is randomly generated.  "
   ]
  },
  {
   "cell_type": "code",
   "execution_count": 6,
   "metadata": {},
   "outputs": [
    {
     "data": {
      "text/plain": [
       "(0, 3)"
      ]
     },
     "execution_count": 6,
     "metadata": {},
     "output_type": "execute_result"
    }
   ],
   "source": [
    "import random\n",
    "def payoffPC(player1):\n",
    "    PC = random.randint(0,1)\n",
    "    result = payoffList[player1][PC]\n",
    "    return result\n",
    "\n",
    "payoffPC(0)\n"
   ]
  },
  {
   "cell_type": "markdown",
   "metadata": {},
   "source": [
    "**3.** Calculate the accumulated value resulting from an iterative game (10 iterations)"
   ]
  },
  {
   "cell_type": "code",
   "execution_count": 11,
   "metadata": {},
   "outputs": [
    {
     "name": "stdout",
     "output_type": "stream",
     "text": [
      "0 or 1? 0\n",
      "(3, 0)\n",
      "3\n",
      "0 or 1? 1\n",
      "(0, 3)\n",
      "3\n",
      "0 or 1? 0\n",
      "(2, 2)\n",
      "5\n",
      "0 or 1? 1\n",
      "(1, 1)\n",
      "6\n",
      "0 or 1? 0\n",
      "(3, 0)\n",
      "9\n",
      "0 or 1? 0\n",
      "(3, 0)\n",
      "12\n",
      "0 or 1? 0\n",
      "(2, 2)\n",
      "14\n",
      "0 or 1? 0\n",
      "(3, 0)\n",
      "17\n",
      "0 or 1? 0\n",
      "(2, 2)\n",
      "19\n",
      "0 or 1? 0\n",
      "(2, 2)\n",
      "21\n"
     ]
    }
   ],
   "source": [
    "import random\n",
    "total=0\n",
    "for i in range(1,11):\n",
    "    PC = random.randint(0,1)\n",
    "    user = int(input(\"0 or 1? \"))\n",
    "    result = payoff(PC,user)\n",
    "    print(result)\n",
    "    total += result[0]\n",
    "    print(total)\n",
    "    "
   ]
  },
  {
   "cell_type": "code",
   "execution_count": null,
   "metadata": {},
   "outputs": [],
   "source": []
  }
 ],
 "metadata": {
  "kernelspec": {
   "display_name": "Python 3",
   "language": "python",
   "name": "python3"
  },
  "language_info": {
   "codemirror_mode": {
    "name": "ipython",
    "version": 3
   },
   "file_extension": ".py",
   "mimetype": "text/x-python",
   "name": "python",
   "nbconvert_exporter": "python",
   "pygments_lexer": "ipython3",
   "version": "3.7.3"
  }
 },
 "nbformat": 4,
 "nbformat_minor": 2
}
