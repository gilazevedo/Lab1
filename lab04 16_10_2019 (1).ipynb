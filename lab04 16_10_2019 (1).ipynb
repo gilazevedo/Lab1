{
 "cells": [
  {
   "cell_type": "code",
   "execution_count": 2,
   "metadata": {},
   "outputs": [
    {
     "name": "stdout",
     "output_type": "stream",
     "text": [
      "[1000.0, 1100.0, 1210.0000000000002, 1331.0000000000005, 1464.1000000000004, 1610.5100000000004]\n"
     ]
    }
   ],
   "source": [
    "valueSales = 1000\n",
    "rate = 0.1\n",
    "nyears = 6\n",
    "valueList = []\n",
    "for i in range(0,6):\n",
    "    valueList.append(valueSales*(1+rate)**i)\n",
    "print(valueList)"
   ]
  },
  {
   "cell_type": "code",
   "execution_count": 3,
   "metadata": {},
   "outputs": [
    {
     "name": "stdout",
     "output_type": "stream",
     "text": [
      "[300.00000000000006, 330.00000000000006, 363.0000000000001, 399.3000000000002, 439.2300000000002, 483.1530000000002]\n"
     ]
    }
   ],
   "source": [
    "margin=0.7\n",
    "costList=[]\n",
    "for i in valueList:\n",
    "    costList.append(i*(1-margin))\n",
    "print(costList)"
   ]
  },
  {
   "cell_type": "code",
   "execution_count": 4,
   "metadata": {},
   "outputs": [
    {
     "name": "stdout",
     "output_type": "stream",
     "text": [
      "[700.0, 770.0, 847.0000000000001, 931.7000000000003, 1024.8700000000001, 1127.3570000000002]\n"
     ]
    }
   ],
   "source": [
    "profitList = []\n",
    "for i in valueList:\n",
    "    profitList.append(i*margin)\n",
    "print(profitList)"
   ]
  },
  {
   "cell_type": "code",
   "execution_count": 5,
   "metadata": {},
   "outputs": [
    {
     "name": "stdout",
     "output_type": "stream",
     "text": [
      "[200.0, 270.0, 347.0000000000001, 431.7000000000003, 524.8700000000001, 627.3570000000002]\n"
     ]
    }
   ],
   "source": [
    "newProfit = []\n",
    "for i in valueList:\n",
    "    newProfit.append(i*margin-500)\n",
    "print(newProfit)"
   ]
  },
  {
   "cell_type": "code",
   "execution_count": 6,
   "metadata": {},
   "outputs": [
    {
     "name": "stdout",
     "output_type": "stream",
     "text": [
      "[1871, 474, 292, 1117, 1394, 641]\n"
     ]
    }
   ],
   "source": [
    "a=200\n",
    "b=2000\n",
    "import random\n",
    "newSales = []\n",
    "for i in range(nyears):\n",
    "    newSales.append(random.randint(a,b))\n",
    "print(newSales)"
   ]
  },
  {
   "cell_type": "code",
   "execution_count": 8,
   "metadata": {},
   "outputs": [
    {
     "name": "stdout",
     "output_type": "stream",
     "text": [
      "[809.6999999999998, -168.20000000000005, -295.6, 281.9, 475.79999999999995, -51.30000000000001]\n"
     ]
    }
   ],
   "source": [
    "margin=0.7\n",
    "fixedcost=500\n",
    "newProfit=[]\n",
    "for i in range(nyears):\n",
    "    newProfit.append((newSales[i]*margin)-fixedcost)\n",
    "print(newProfit)    "
   ]
  },
  {
   "cell_type": "code",
   "execution_count": 10,
   "metadata": {},
   "outputs": [
    {
     "name": "stdout",
     "output_type": "stream",
     "text": [
      "50.0\n"
     ]
    }
   ],
   "source": [
    "perc=[]\n",
    "for i in range(nyears):\n",
    "    if newProfit[i]>0:\n",
    "        perc.append(i)\n",
    "Profits=len(perc)/len(newProfit)*100\n",
    "print(Profits)"
   ]
  },
  {
   "cell_type": "code",
   "execution_count": 16,
   "metadata": {},
   "outputs": [
    {
     "data": {
      "image/png": "[encoded data removed]",
      "text/plain": [
       "<Figure size 432x288 with 1 Axes>"
      ]
     },
     "metadata": {
      "needs_background": "light"
     },
     "output_type": "display_data"
    }
   ],
   "source": [
    "import matplotlib.pyplot as plt \n",
    "plt.plot(valueList) \n",
    "plt.plot(newSales) \n",
    "plt.ylabel('valueList') \n",
    "plt.xlabel('years')\n",
    "plt.show()"
   ]
  },
  {
   "cell_type": "code",
   "execution_count": null,
   "metadata": {},
   "outputs": [],
   "source": []
  }
 ],
 "metadata": {
  "kernelspec": {
   "display_name": "Python 3",
   "language": "python",
   "name": "python3"
  },
  "language_info": {
   "codemirror_mode": {
    "name": "ipython",
    "version": 3
   },
   "file_extension": ".py",
   "mimetype": "text/x-python",
   "name": "python",
   "nbconvert_exporter": "python",
   "pygments_lexer": "ipython3",
   "version": "3.7.3"
  }
 },
 "nbformat": 4,
 "nbformat_minor": 2
}
