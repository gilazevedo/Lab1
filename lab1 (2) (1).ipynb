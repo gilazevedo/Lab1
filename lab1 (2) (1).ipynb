{
 "cells": [
  {
   "cell_type": "code",
   "execution_count": 1,
   "metadata": {},
   "outputs": [
    {
     "data": {
      "text/plain": [
       "False"
      ]
     },
     "execution_count": 1,
     "metadata": {},
     "output_type": "execute_result"
    }
   ],
   "source": [
    "\"\"\" 1) Verify if a value is integer \"\"\"\n",
    "n = 1.5\n",
    "n == int(n)"
   ]
  },
  {
   "cell_type": "code",
   "execution_count": 2,
   "metadata": {},
   "outputs": [
    {
     "data": {
      "text/plain": [
       "True"
      ]
     },
     "execution_count": 2,
     "metadata": {},
     "output_type": "execute_result"
    }
   ],
   "source": [
    "\n",
    "n = 1\n",
    "n == int(n)\n"
   ]
  },
  {
   "cell_type": "code",
   "execution_count": 3,
   "metadata": {},
   "outputs": [
    {
     "name": "stdout",
     "output_type": "stream",
     "text": [
      " Enter a number: 3\n"
     ]
    },
    {
     "data": {
      "text/plain": [
       "False"
      ]
     },
     "execution_count": 3,
     "metadata": {},
     "output_type": "execute_result"
    }
   ],
   "source": [
    "\"\"\"2) Verify if a value is even\"\"\"\n",
    "\n",
    "num = int(input(\" Enter a number: \"))\n",
    "num % 2 == 0\n",
    "         "
   ]
  },
  {
   "cell_type": "code",
   "execution_count": 16,
   "metadata": {},
   "outputs": [
    {
     "data": {
      "text/plain": [
       "False"
      ]
     },
     "execution_count": 16,
     "metadata": {},
     "output_type": "execute_result"
    }
   ],
   "source": [
    "\"\"\" 3) Insert two numbers. Is the first is bigger than the second? \"\"\"\n",
    "\n",
    "\n",
    "x = 2\n",
    "y = 4\n",
    "\n",
    "x>=y\n"
   ]
  },
  {
   "cell_type": "code",
   "execution_count": 17,
   "metadata": {},
   "outputs": [
    {
     "data": {
      "text/plain": [
       "True"
      ]
     },
     "execution_count": 17,
     "metadata": {},
     "output_type": "execute_result"
    }
   ],
   "source": [
    "\"\"\" 4) Verify if one value is multiple of another \"\"\"\n",
    "\n",
    "x = 4\n",
    "y = 2\n",
    "\n",
    "x % y == 0 or y % x == 0"
   ]
  },
  {
   "cell_type": "code",
   "execution_count": 6,
   "metadata": {},
   "outputs": [
    {
     "name": "stdout",
     "output_type": "stream",
     "text": [
      "18.0\n"
     ]
    }
   ],
   "source": [
    "\"\"\"5) Calculate the interest earn by an investor that invested a capital of 200 during 3 years with an interest rate of 3%. (I=\n",
    "P*R*T)\"\"\"\n",
    "\n",
    "value = 200 * 3 * 0.03\n",
    "print(value)"
   ]
  },
  {
   "cell_type": "code",
   "execution_count": 7,
   "metadata": {},
   "outputs": [
    {
     "name": "stdout",
     "output_type": "stream",
     "text": [
      "218.5454\n"
     ]
    }
   ],
   "source": [
    "\"\"\"6) Capital that an investor obtained after investing a capital of 200 during 3 years with an interest rate of 3%. (Compound\n",
    "interest)\"\"\"\n",
    "\n",
    "value = 200 * (1.03)**3\n",
    "print(value)"
   ]
  },
  {
   "cell_type": "code",
   "execution_count": 8,
   "metadata": {},
   "outputs": [
    {
     "name": "stdout",
     "output_type": "stream",
     "text": [
      "21.604938271604937\n"
     ]
    }
   ],
   "source": [
    "\"\"\"7) Calculate your BMI (Body Mass Index)\"\"\"\n",
    "\n",
    "mass = 70\n",
    "height = 1.80\n",
    "BMI = mass/(height)**2\n",
    "print(BMI)"
   ]
  },
  {
   "cell_type": "code",
   "execution_count": 9,
   "metadata": {},
   "outputs": [
    {
     "name": "stdout",
     "output_type": "stream",
     "text": [
      "1.618033988749895\n"
     ]
    }
   ],
   "source": [
    "\"\"\"8) Calcule the Golden ration\"\"\"\n",
    "\n",
    "value = (1 + 5**(1/2))/2\n",
    "print(value)"
   ]
  },
  {
   "cell_type": "code",
   "execution_count": 10,
   "metadata": {},
   "outputs": [
    {
     "name": "stdout",
     "output_type": "stream",
     "text": [
      "1.618033988749895\n"
     ]
    }
   ],
   "source": [
    "import math\n",
    "value = (1 + math.sqrt(5))/2\n",
    "print(value)"
   ]
  },
  {
   "cell_type": "code",
   "execution_count": 11,
   "metadata": {},
   "outputs": [
    {
     "name": "stdout",
     "output_type": "stream",
     "text": [
      "717.8471415886875\n"
     ]
    }
   ],
   "source": [
    "\"\"\" Calculete the NPV (Net present value) of an investment, considering an initial investment of 10000, the following Cashflows\n",
    "2000,3000, 4000, 4000 and 5000 and a discount rate of 10%.\"\"\"\n",
    "import numpy as np\n",
    "value = np.npv(0.1,[-10000,2000,3000,4000,5000])\n",
    "print(value)"
   ]
  },
  {
   "cell_type": "code",
   "execution_count": 1,
   "metadata": {},
   "outputs": [
    {
     "name": "stdout",
     "output_type": "stream",
     "text": [
      "What is your name? Gil\n",
      "What is your age? 23\n",
      "The person was born in = 1996\n"
     ]
    }
   ],
   "source": [
    "\"\"\"10) Ask the user to insert name and age. Calculate the the birth. Print a result saying the 'this person was born in'\n",
    "1. Solve the problem without using modules and libraries\"\"\"\n",
    "\n",
    "x = input(\"What is your name? \" )\n",
    "y = int(input(\"What is your age? \"))\n",
    "value = 2019 - y\n",
    "print(\"The person was born in =\", value)\n",
    "\n",
    "\n"
   ]
  },
  {
   "cell_type": "code",
   "execution_count": 2,
   "metadata": {},
   "outputs": [
    {
     "name": "stdout",
     "output_type": "stream",
     "text": [
      "What is your name? Gil\n",
      "What is your age? 23\n",
      "The person was born in = 1996\n"
     ]
    }
   ],
   "source": [
    "\"\"\"2. Solve the problem using the date library from module datetime, as follow:\"\"\"\n",
    "\n",
    "x = input(\"What is your name? \" )\n",
    "y = int(input(\"What is your age? \"))\n",
    "\n",
    "from datetime import date\n",
    "\n",
    "today = date.today()\n",
    "today.year\n",
    "\n",
    "value = today.year - y \n",
    "\n",
    "print(\"The person was born in =\", value)\n"
   ]
  },
  {
   "cell_type": "code",
   "execution_count": 12,
   "metadata": {},
   "outputs": [
    {
     "name": "stdout",
     "output_type": "stream",
     "text": [
      "What is your full name? Gil Duarte Melo Azevedo\n",
      "GIL DUARTE MELO AZEVEDO\n",
      "Gil Duarte Melo Azevedo\n",
      "gil duarte melo azevedo\n",
      "Gil duarte melo azevedo\n"
     ]
    }
   ],
   "source": [
    "\"\"\" 11) Ask the user to insert forenames, surnames. create a new variable (name) with your complete name.\n",
    "Create the follwoing variables:\n",
    "nameBig, where all the characters of the name are capitalized\n",
    "nameTitle, where the only the first character of each name (word) is capitalized\n",
    "nameSmall, where all the characters of the name are lower\n",
    "nameCapitalized, where only the first charater of the first name is capitalized \"\"\"\n",
    "\n",
    "name = input(\"What is your full name? \", )\n",
    "nameBig = name.upper()\n",
    "nameTitle = name.title()\n",
    "nameSmall = name.lower()\n",
    "nameCapitalized = name.capitalize()\n",
    "\n",
    "print(nameBig)\n",
    "print(nameTitle)\n",
    "print(nameSmall)\n",
    "print(nameCapitalized)"
   ]
  },
  {
   "cell_type": "code",
   "execution_count": 15,
   "metadata": {},
   "outputs": [
    {
     "name": "stdout",
     "output_type": "stream",
     "text": [
      "8\n",
      "-1\n"
     ]
    }
   ],
   "source": [
    "\"\"\"12) Use the follwoing method to show where in which carater appears the firs \"da\"\n",
    "str.find(sub,start,end)\n",
    "What happens if does not find?\"\"\"\n",
    "\n",
    "str = \"Universidade de Lisboa\"\n",
    "\n",
    "result = str.find(\"da\") \n",
    "\n",
    "print(result)\n",
    "\n",
    "str = \"Gil Azevedo\"\n",
    "\n",
    "result2 = str.find(\"da\")\n",
    "\n",
    "print(result2)\n",
    "\n"
   ]
  },
  {
   "cell_type": "code",
   "execution_count": null,
   "metadata": {},
   "outputs": [],
   "source": []
  }
 ],
 "metadata": {
  "kernelspec": {
   "display_name": "Python 3",
   "language": "python",
   "name": "python3"
  },
  "language_info": {
   "codemirror_mode": {
    "name": "ipython",
    "version": 3
   },
   "file_extension": ".py",
   "mimetype": "text/x-python",
   "name": "python",
   "nbconvert_exporter": "python",
   "pygments_lexer": "ipython3",
   "version": "3.7.3"
  }
 },
 "nbformat": 4,
 "nbformat_minor": 2
}
